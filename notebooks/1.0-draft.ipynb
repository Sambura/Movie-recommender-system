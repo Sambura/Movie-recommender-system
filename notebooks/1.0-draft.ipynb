{
 "cells": [
  {
   "cell_type": "code",
   "execution_count": null,
   "metadata": {},
   "outputs": [],
   "source": [
    "import os\n",
    "\n",
    "if os.path.basename(os.getcwd()) == 'notebooks':\n",
    "    %cd .."
   ]
  },
  {
   "cell_type": "code",
   "execution_count": null,
   "metadata": {},
   "outputs": [],
   "source": [
    "from src.data.load_data import get_crossval_datasets, get_unique_num\n",
    "from src.models.simple_regressor import SimpleRegressorModelV1\n",
    "from src.models.train import train_rsm\n",
    "\n",
    "import torch\n",
    "from torch import nn\n",
    "import numpy as np"
   ]
  },
  {
   "cell_type": "code",
   "execution_count": null,
   "metadata": {},
   "outputs": [],
   "source": [
    "train_losses, val_losses = [], []\n",
    "\n",
    "loss_fn = nn.MSELoss()\n",
    "\n",
    "for i, (train_dataloader, val_dataloader) in enumerate(get_crossval_datasets(), 1):\n",
    "    print(f'Training on split #{i}...')\n",
    "    model = SimpleRegressorModelV1(get_unique_num('user_id'), get_unique_num('item_id'))\n",
    "    optimizer = torch.optim.Adam(model.parameters(), lr=1e-3, weight_decay=1e-4)\n",
    "\n",
    "    train_loss, val_loss = train_rsm(model, optimizer, loss_fn, train_dataloader, val_dataloader)\n",
    "    train_losses.append(train_loss)\n",
    "    val_losses.append(val_loss)\n",
    "\n",
    "print(f'Training is over. Average training/validation RMSE: {np.mean(np.sqrt(train_losses)[:,-1]):0.2f}/{np.mean(np.sqrt(val_losses)[:,-1]):0.2f}')"
   ]
  }
 ],
 "metadata": {
  "kernelspec": {
   "display_name": "cuda_transformers_temp",
   "language": "python",
   "name": "python3"
  },
  "language_info": {
   "codemirror_mode": {
    "name": "ipython",
    "version": 3
   },
   "file_extension": ".py",
   "mimetype": "text/x-python",
   "name": "python",
   "nbconvert_exporter": "python",
   "pygments_lexer": "ipython3",
   "version": "3.11.5"
  }
 },
 "nbformat": 4,
 "nbformat_minor": 2
}
