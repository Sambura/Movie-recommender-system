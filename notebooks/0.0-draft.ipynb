{
 "cells": [
  {
   "cell_type": "code",
   "execution_count": null,
   "metadata": {},
   "outputs": [],
   "source": [
    "import os\n",
    "\n",
    "if os.path.basename(os.getcwd()) == 'notebooks':\n",
    "    %cd .."
   ]
  },
  {
   "cell_type": "code",
   "execution_count": null,
   "metadata": {},
   "outputs": [],
   "source": [
    "%load_ext autoreload\n",
    "%autoreload 2"
   ]
  },
  {
   "cell_type": "code",
   "execution_count": null,
   "metadata": {},
   "outputs": [],
   "source": [
    "from src.data.load_data import get_crossval_datasets, create_dataloaders, get_unique_num\n",
    "from src.models.simple_regressor import SimpleRegressorModelV1\n",
    "from src.models.train import train_rsm\n",
    "from src.utils.common import seed_everything\n",
    "from src.models.evaluation import compute_metrics, make_markdown_table\n",
    "\n",
    "import torch\n",
    "from torch import nn\n",
    "import numpy as np"
   ]
  },
  {
   "cell_type": "code",
   "execution_count": null,
   "metadata": {},
   "outputs": [],
   "source": [
    "dataset_splits = get_crossval_datasets()\n",
    "dataloaders = create_dataloaders(dataset_splits)\n",
    "\n",
    "randomizer_seed = 42\n",
    "seed_everything(randomizer_seed)"
   ]
  },
  {
   "cell_type": "code",
   "execution_count": null,
   "metadata": {},
   "outputs": [],
   "source": [
    "train_losses, val_losses = [], []\n",
    "metrics = []\n",
    "\n",
    "loss_fn = nn.MSELoss()\n",
    "\n",
    "for i, (train_dataloader, val_dataloader) in enumerate(dataloaders, 1):\n",
    "    print(f'Training on split #{i}...')\n",
    "    model = SimpleRegressorModelV1(get_unique_num('user_id'), get_unique_num('item_id'), 128, 128)\n",
    "    optimizer = torch.optim.Adam(model.parameters(), lr=1e-3, weight_decay=1e-4)\n",
    "\n",
    "    train_loss, val_loss = train_rsm(model, optimizer, loss_fn, train_dataloader, val_dataloader)\n",
    "    train_losses.append(train_loss)\n",
    "    val_losses.append(val_loss)\n",
    "\n",
    "    metrics.append(compute_metrics(model, val_dataloader))\n",
    "    metrics[-1]['Training loss'] = train_loss[-1]\n",
    "\n",
    "last_tls = np.array(train_losses)[:,-1]\n",
    "last_vls = np.array(val_losses)[:,-1]\n",
    "\n",
    "print(f'\\nTraining is over. Average training/validation RMSE: {np.mean(np.sqrt(last_tls)):0.2f} / {np.mean(np.sqrt(last_vls)):0.2f}')\n",
    "print(f'Training losses: {last_tls}')\n",
    "print(f'Validation losses: {last_vls}')"
   ]
  },
  {
   "cell_type": "code",
   "execution_count": null,
   "metadata": {},
   "outputs": [],
   "source": [
    "print(f'Random seed: {randomizer_seed}')\n",
    "print('Summary on cross validation training:')\n",
    "\n",
    "make_markdown_table(metrics)"
   ]
  },
  {
   "cell_type": "code",
   "execution_count": null,
   "metadata": {},
   "outputs": [],
   "source": [
    "model.save_model('models/model-128.pickle')"
   ]
  }
 ],
 "metadata": {
  "kernelspec": {
   "display_name": "cuda_transformers_temp",
   "language": "python",
   "name": "python3"
  },
  "language_info": {
   "codemirror_mode": {
    "name": "ipython",
    "version": 3
   },
   "file_extension": ".py",
   "mimetype": "text/x-python",
   "name": "python",
   "nbconvert_exporter": "python",
   "pygments_lexer": "ipython3",
   "version": "3.11.5"
  }
 },
 "nbformat": 4,
 "nbformat_minor": 2
}
